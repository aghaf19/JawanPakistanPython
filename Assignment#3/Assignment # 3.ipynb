{
 "cells": [
  {
   "cell_type": "markdown",
   "id": "2de04dbf",
   "metadata": {},
   "source": [
    "# Q.No.1\n",
    "Write a Python program to print the following string in a specific format (see the output) Twinkle, twinkle, little star, How I wonder what you are! Up above the world so high,\n",
    "Like a diamond in the sky. Twinkle, twinkle, little star, How I wonder what you are"
   ]
  },
  {
   "cell_type": "code",
   "execution_count": 1,
   "id": "36ac7f22",
   "metadata": {},
   "outputs": [
    {
     "name": "stdout",
     "output_type": "stream",
     "text": [
      "Twinkle, twinkle, little star, \n",
      "\tHow I wonder what you are! \n",
      "\t\tUp above the world so high, \n",
      "\t\tLike a diamond in the sky. \n",
      "Twinkle, twinkle, little star, \n",
      "\tHow I wonder what you are!\n"
     ]
    }
   ],
   "source": [
    "print(\"Twinkle, twinkle, little star, \\n\\tHow I wonder what you are! \\n\\t\\tUp above the world so high, \\n\\t\\tLike a diamond in the sky. \\nTwinkle, twinkle, little star, \\n\\tHow I wonder what you are!\")"
   ]
  },
  {
   "cell_type": "markdown",
   "id": "62e0e344",
   "metadata": {},
   "source": [
    "# Q.No.2\n",
    "Write a python program to get the python version you are using."
   ]
  },
  {
   "cell_type": "code",
   "execution_count": 2,
   "id": "e3d2b3e6",
   "metadata": {},
   "outputs": [
    {
     "name": "stdout",
     "output_type": "stream",
     "text": [
      "Python version\n",
      "3.8.8 (default, Apr 13 2021, 15:08:03) [MSC v.1916 64 bit (AMD64)]\n"
     ]
    }
   ],
   "source": [
    "import sys\n",
    "print(\"Python version\")\n",
    "print (sys.version)\n"
   ]
  },
  {
   "cell_type": "markdown",
   "id": "5b43b1d4",
   "metadata": {},
   "source": [
    "# Q.No.3\n",
    "Write a python program to display the current date and time."
   ]
  },
  {
   "cell_type": "code",
   "execution_count": 3,
   "id": "020f1583",
   "metadata": {},
   "outputs": [
    {
     "name": "stdout",
     "output_type": "stream",
     "text": [
      "Current date and time : \n",
      "2021-10-24 16:48:26\n"
     ]
    }
   ],
   "source": [
    "import datetime\n",
    "now = datetime.datetime.now()\n",
    "print (\"Current date and time : \")\n",
    "print (now.strftime(\"%Y-%m-%d %H:%M:%S\"))"
   ]
  },
  {
   "cell_type": "markdown",
   "id": "7295ca24",
   "metadata": {},
   "source": [
    "# Q.No.4\n",
    "Write a python program which accepts the radius of a circle from the user and compute the area."
   ]
  },
  {
   "cell_type": "code",
   "execution_count": 4,
   "id": "582d2ec1",
   "metadata": {},
   "outputs": [
    {
     "name": "stdout",
     "output_type": "stream",
     "text": [
      "radius of the circle : 2\n",
      "Area of the circle with radius 2.0 is: 12.566370614359172\n"
     ]
    }
   ],
   "source": [
    "from math import pi\n",
    "r = float(input (\"radius of the circle : \"))\n",
    "print (\"Area of the circle with radius \" + str(r) + \" is: \" + str(pi * r**2))"
   ]
  },
  {
   "cell_type": "markdown",
   "id": "33697ec5",
   "metadata": {},
   "source": [
    "# Q.No.5\n",
    "Write a python program which accepts the user's first and last name and print them in reverse order with a space between them."
   ]
  },
  {
   "cell_type": "code",
   "execution_count": 5,
   "id": "c3a10474",
   "metadata": {},
   "outputs": [
    {
     "name": "stdout",
     "output_type": "stream",
     "text": [
      "First Name : salman\n",
      "Last Name : Faizan\n",
      "Faizan salman\n"
     ]
    }
   ],
   "source": [
    "firstname = input(\"First Name : \")\n",
    "lastname = input(\"Last Name : \")\n",
    "print (lastname + \" \" + firstname)"
   ]
  },
  {
   "cell_type": "markdown",
   "id": "939f6c6a",
   "metadata": {},
   "source": [
    "# Q.No.6\n",
    "Write a python program which takes two inputs from user and print them addition."
   ]
  },
  {
   "cell_type": "code",
   "execution_count": 6,
   "id": "a130a91f",
   "metadata": {},
   "outputs": [
    {
     "name": "stdout",
     "output_type": "stream",
     "text": [
      "first number: 5\n",
      "second number: 5\n",
      "sum: 10\n"
     ]
    }
   ],
   "source": [
    "a = int(input(\"first number: \"))\n",
    "b = int(input(\"second number: \"))\n",
    "sum = a + b\n",
    "print(\"sum:\", sum)"
   ]
  },
  {
   "cell_type": "markdown",
   "id": "3e621d14",
   "metadata": {},
   "source": [
    "# Q.No.7\n",
    "Write a program which takes 5 inputs from user for different subjects marks,total it and generate marksheet using grades."
   ]
  },
  {
   "cell_type": "code",
   "execution_count": 7,
   "id": "f79be74a",
   "metadata": {},
   "outputs": [
    {
     "name": "stdout",
     "output_type": "stream",
     "text": [
      "Enter marks of the first subject: 80\n",
      "Eng= 80\n",
      "Enter marks of the second subject: 75\n",
      "Isl= 75\n",
      "Enter marks of the third subject: 90\n",
      "Maths= 90\n",
      "Enter marks of the fourth subject: 70\n",
      "Urdu=85 70\n",
      "Enter marks of the fifth subject: 85\n",
      "Phy= 85\n",
      "Total_Marks =500\n",
      "Obtained_Marks = 400\n",
      "Percentage = 80.0\n",
      "Grade A+\n"
     ]
    }
   ],
   "source": [
    "Eng=int(input(\"Enter marks of the first subject: \"))\n",
    "print(\"Eng=\",Eng)\n",
    "Isl=int(input(\"Enter marks of the second subject: \"))\n",
    "print(\"Isl=\",Isl)\n",
    "Maths=int(input(\"Enter marks of the third subject: \"))\n",
    "print(\"Maths=\",Maths)\n",
    "Urdu=int(input(\"Enter marks of the fourth subject: \"))\n",
    "print(\"Urdu=85\",Urdu)\n",
    "Phy=int(input(\"Enter marks of the fifth subject: \"))\n",
    "print(\"Phy=\",Phy)\n",
    "Total_Marks =500\n",
    "print(\"Total_Marks =500\")\n",
    "Obtained_Marks=Eng+Isl+Maths+Urdu+Phy\n",
    "print(\"Obtained_Marks =\",Obtained_Marks)\n",
    "percent=(Obtained_Marks/Total_Marks)*100\n",
    "print(\"Percentage =\",percent)\n",
    "if percent <= 100 and percent >= 80:\n",
    "    print(\"Grade A+\");\n",
    "elif percent < 80 and percent >= 70:\n",
    "    print(\"Grade A\");\n",
    "elif percent < 70 and percent >= 60:\n",
    "    print(\"Grade B\");\n",
    "elif percent < 60 and percent >= 50:\n",
    "    print(\"Grade C\");\n",
    "elif percent < 50 and percent >= 40:\n",
    "    print(\"Grade D\");\n",
    "elif percent < 40 and percent >= 33:\n",
    "    print(\"Grade E\");    \n",
    "elif percent < 33 :\n",
    "    print(\"Fail\");\n",
    "else:\n",
    "    print(\"Invalid Input!\")"
   ]
  },
  {
   "cell_type": "markdown",
   "id": "bfb587a7",
   "metadata": {},
   "source": [
    "# Q.No.8\n",
    "Write a program which take input from user and identify that the given number is even or odd."
   ]
  },
  {
   "cell_type": "code",
   "execution_count": 8,
   "id": "0e4fb1e7",
   "metadata": {},
   "outputs": [
    {
     "name": "stdout",
     "output_type": "stream",
     "text": [
      "Enter a numbe= 5\n",
      "This is an odd number.\n"
     ]
    }
   ],
   "source": [
    "num = int(input(\"Enter a numbe= \"))\n",
    "mod = num % 2\n",
    "if mod > 0:\n",
    "    print(\"This is an odd number.\")\n",
    "else:\n",
    "    print(\"This is an even number.\")"
   ]
  },
  {
   "cell_type": "markdown",
   "id": "d5d2cc71",
   "metadata": {},
   "source": [
    "# Q.No.9\n",
    "Write a program which print the length of the list."
   ]
  },
  {
   "cell_type": "code",
   "execution_count": 9,
   "id": "07734890",
   "metadata": {},
   "outputs": [
    {
     "name": "stdout",
     "output_type": "stream",
     "text": [
      "4\n"
     ]
    }
   ],
   "source": [
    "list2 = ['Python','Java','1','3']\n",
    "size = len(list2)\n",
    "print(size)"
   ]
  },
  {
   "cell_type": "markdown",
   "id": "8504fe05",
   "metadata": {},
   "source": [
    "# Q.No.10\n",
    "Write a python program to sum all the numeric items in a list."
   ]
  },
  {
   "cell_type": "code",
   "execution_count": 10,
   "id": "22f76f4a",
   "metadata": {},
   "outputs": [
    {
     "name": "stdout",
     "output_type": "stream",
     "text": [
      "--OUTPUT--\n",
      "sum of items is 33\n"
     ]
    }
   ],
   "source": [
    "print(\"--OUTPUT--\");\n",
    "my_list = [1,3,5,6,8,10];\n",
    "sum =0;\n",
    "for i in range(0,len(my_list)):\n",
    "    sum = sum + my_list[i];\n",
    "print(\"sum of items is\",sum);"
   ]
  },
  {
   "cell_type": "markdown",
   "id": "b842eacf",
   "metadata": {},
   "source": [
    "# Q.No.11\n",
    "Write a program to get the largest number from a numeric list."
   ]
  },
  {
   "cell_type": "code",
   "execution_count": 11,
   "id": "233a5f04",
   "metadata": {},
   "outputs": [
    {
     "name": "stdout",
     "output_type": "stream",
     "text": [
      "Largest element : 90\n"
     ]
    }
   ],
   "source": [
    "list3 = [10, 30, 40, 25, 90, 20]\n",
    "print(\"Largest element :\", max(list3))"
   ]
  },
  {
   "cell_type": "markdown",
   "id": "7c4b25eb",
   "metadata": {},
   "source": [
    "# Q.No.12\n",
    "Take a list,say for example this one: a = [1,1,2,3,5,8,13,21,34,55,89] Write a program that prints out all the elements of the list that are less than 5."
   ]
  },
  {
   "cell_type": "code",
   "execution_count": 12,
   "id": "80d7774b",
   "metadata": {},
   "outputs": [
    {
     "name": "stdout",
     "output_type": "stream",
     "text": [
      "[1, 1, 2, 3]\n"
     ]
    }
   ],
   "source": [
    "a = [1,1,2,3,5,8,13,21,34,55,89];\n",
    "b = [];\n",
    "for i in a:\n",
    "    if i < 5:\n",
    "        b.append(i);\n",
    "print(b);"
   ]
  },
  {
   "cell_type": "code",
   "execution_count": null,
   "id": "38fc18ca",
   "metadata": {},
   "outputs": [],
   "source": []
  }
 ],
 "metadata": {
  "kernelspec": {
   "display_name": "Python 3",
   "language": "python",
   "name": "python3"
  },
  "language_info": {
   "codemirror_mode": {
    "name": "ipython",
    "version": 3
   },
   "file_extension": ".py",
   "mimetype": "text/x-python",
   "name": "python",
   "nbconvert_exporter": "python",
   "pygments_lexer": "ipython3",
   "version": "3.8.8"
  }
 },
 "nbformat": 4,
 "nbformat_minor": 5
}
