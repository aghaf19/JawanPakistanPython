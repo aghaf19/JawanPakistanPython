{
 "cells": [
  {
   "cell_type": "markdown",
   "id": "f7e135c0",
   "metadata": {},
   "source": [
    "# Question no 01\n",
    "Make a calculator using Python with addition , subtraction ,\n",
    "multiplication ,division and power."
   ]
  },
  {
   "cell_type": "code",
   "execution_count": null,
   "id": "e12d58e0",
   "metadata": {},
   "outputs": [
    {
     "name": "stdout",
     "output_type": "stream",
     "text": [
      "Select operation.\n",
      "1.Add\n",
      "2.Subtract\n",
      "3.Multiply\n",
      "4.Divide\n"
     ]
    }
   ],
   "source": [
    "def add(x, y):\n",
    "    return x + y\n",
    "def subtract(x, y):\n",
    "    return x - y\n",
    "def multiply(x, y):\n",
    "    return x * y\n",
    "def divide(x, y):\n",
    "    return x / y\n",
    "print(\"Select operation.\")\n",
    "print(\"1.Add\")\n",
    "print(\"2.Subtract\")\n",
    "print(\"3.Multiply\")\n",
    "print(\"4.Divide\")\n",
    "while True:\n",
    "    choice = input(\"Enter choice(1/2/3/4): \")\n",
    "    if choice in ('1', '2', '3', '4'):\n",
    "        num1 = float(input(\"Enter first number: \"))\n",
    "        num2 = float(input(\"Enter second number: \"))\n",
    "        if choice == '1':\n",
    "            print(num1, \"+\", num2, \"=\", add(num1, num2))\n",
    "        elif choice == '2':\n",
    "            print(num1, \"-\", num2, \"=\", subtract(num1, num2))\n",
    "        elif choice == '3':\n",
    "            print(num1, \"*\", num2, \"=\", multiply(num1, num2))\n",
    "        elif choice == '4':\n",
    "            print(num1, \"/\", num2, \"=\", divide(num1, num2))\n",
    "        break    \n",
    "    else:\n",
    "        print(\"Invalid Input\")"
   ]
  },
  {
   "cell_type": "markdown",
   "id": "3e3271ea",
   "metadata": {},
   "source": [
    "# Question no 02\n",
    "Write a program to check if there is any numeric value in list using for\n",
    "loop."
   ]
  },
  {
   "cell_type": "code",
   "execution_count": null,
   "id": "d15f9536",
   "metadata": {},
   "outputs": [],
   "source": [
    "# test_list = [10, 15, 20, 7, 46, 2808]\n",
    "\n",
    "print(\"Checking if 15 exists in list\")\n",
    "\n",
    "# number of times element exists in list\n",
    "exist_count = test_list.count(15)\n",
    "\n",
    "# checking if it is more then 0\n",
    "if exist_count > 0:\n",
    "\tprint(\"Yes, 15 exists in list\")\n",
    "else:\n",
    "\tprint(\"No, 15 does not exists in list\")"
   ]
  },
  {
   "cell_type": "markdown",
   "id": "2641f9d3",
   "metadata": {},
   "source": [
    "# Question no 03\n",
    "Write a Python script to add a key to a dictionary."
   ]
  },
  {
   "cell_type": "code",
   "execution_count": 2,
   "id": "58b90a79",
   "metadata": {},
   "outputs": [
    {
     "name": "stdout",
     "output_type": "stream",
     "text": [
      "{0: 10, 1: 20}\n",
      "{0: 10, 1: 20, 2: 30}\n"
     ]
    }
   ],
   "source": [
    "d = {0:10, 1:20}\n",
    "print(d)\n",
    "d.update({2:30})\n",
    "print(d)\n"
   ]
  },
  {
   "cell_type": "markdown",
   "id": "ccd3e5b4",
   "metadata": {},
   "source": [
    "# Question no 04\n",
    "Write a Python program to sum all the numeric items in a dictionary."
   ]
  },
  {
   "cell_type": "code",
   "execution_count": 10,
   "id": "44f9860d",
   "metadata": {},
   "outputs": [
    {
     "name": "stdout",
     "output_type": "stream",
     "text": [
      "33\n"
     ]
    }
   ],
   "source": [
    "my_dict = {'1':10,'2':-4,'3':27}\n",
    "print(sum(my_dict.values()))\n"
   ]
  },
  {
   "cell_type": "markdown",
   "id": "00cd95ae",
   "metadata": {},
   "source": [
    "# Question no 05\n",
    "Write a program to identify duplicate values from list."
   ]
  },
  {
   "cell_type": "code",
   "execution_count": 13,
   "id": "25eb169b",
   "metadata": {},
   "outputs": [
    {
     "name": "stdout",
     "output_type": "stream",
     "text": [
      "Counter({1: 4, 2: 3, 5: 2, 9: 2, 3: 1, 4: 1, 6: 1, 7: 1, 8: 1})\n",
      "[1, 2, 5, 9]\n"
     ]
    }
   ],
   "source": [
    "\n",
    "l1 = [1,2,1,2,3,4,5,1,1,2,5,6,7,8,9,9]\n",
    "d = Counter(l1)\n",
    "print(d)\n",
    "new_list = list([item for item in d if d[item]>1])\n",
    "print(new_list)\n"
   ]
  },
  {
   "cell_type": "markdown",
   "id": "86f3614e",
   "metadata": {},
   "source": [
    "# Question no 06\n",
    "Write a Python script to check if a given key already exists in a\n",
    "dictionary."
   ]
  },
  {
   "cell_type": "code",
   "execution_count": 14,
   "id": "bf21b7cc",
   "metadata": {},
   "outputs": [
    {
     "name": "stdout",
     "output_type": "stream",
     "text": [
      "Key is present in the dictionary\n",
      "Key is not present in the dictionary\n"
     ]
    }
   ],
   "source": [
    "d = {1: 10, 2: 20, 3: 30, 4: 40, 5: 50, 6: 60}\n",
    "def is_key_present(x):\n",
    "  if x in d:\n",
    "      print('Key is present in the dictionary')\n",
    "  else:\n",
    "      print('Key is not present in the dictionary')\n",
    "is_key_present(5)\n",
    "is_key_present(9)\n"
   ]
  }
 ],
 "metadata": {
  "kernelspec": {
   "display_name": "Python 3",
   "language": "python",
   "name": "python3"
  },
  "language_info": {
   "codemirror_mode": {
    "name": "ipython",
    "version": 3
   },
   "file_extension": ".py",
   "mimetype": "text/x-python",
   "name": "python",
   "nbconvert_exporter": "python",
   "pygments_lexer": "ipython3",
   "version": "3.8.8"
  }
 },
 "nbformat": 4,
 "nbformat_minor": 5
}
